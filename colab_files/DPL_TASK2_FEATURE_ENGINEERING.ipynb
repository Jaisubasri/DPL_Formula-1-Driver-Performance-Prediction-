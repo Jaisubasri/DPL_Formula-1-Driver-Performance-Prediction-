{
  "cells": [
    {
      "cell_type": "code",
      "execution_count": null,
      "metadata": {
        "id": "BKdtK_Ya71Sc"
      },
      "outputs": [],
      "source": [
        "import pandas as pd\n",
        "import numpy as np\n",
        "import os\n",
        "from sklearn.preprocessing import MinMaxScaler"
      ]
    },
    {
      "cell_type": "code",
      "execution_count": null,
      "metadata": {
        "colab": {
          "base_uri": "https://localhost:8080/"
        },
        "id": "qU2PCkP07-WH",
        "outputId": "2760cf51-eda8-491a-b619-900800b9c644"
      },
      "outputs": [
        {
          "name": "stdout",
          "output_type": "stream",
          "text": [
            "Loaded: constructors_preprocessed.csv\n",
            "Loaded: constructor_standings_preprocessed.csv\n",
            "Loaded: seasons_preprocessed.csv\n",
            "Loaded: status_preprocessed.csv\n",
            "Loaded: qualifying_preprocessed.csv\n",
            "Loaded: sprint_results_preprocessed.csv\n",
            "Loaded: races_preprocessed.csv\n",
            "Loaded: constructor_results_preprocessed.csv\n",
            "Loaded: driver_standings_preprocessed.csv\n",
            "Loaded: circuits_preprocessed.csv\n",
            "Loaded: pit_stops_preprocessed.csv\n",
            "Loaded: drivers_preprocessed.csv\n",
            "Loaded: lap_times_preprocessed.csv\n",
            "Loaded: results_preprocessed.csv\n",
            "\n",
            "Available DataFrames:\n",
            "dict_keys(['constructors_preprocessed', 'constructor_standings_preprocessed', 'seasons_preprocessed', 'status_preprocessed', 'qualifying_preprocessed', 'sprint_results_preprocessed', 'races_preprocessed', 'constructor_results_preprocessed', 'driver_standings_preprocessed', 'circuits_preprocessed', 'pit_stops_preprocessed', 'drivers_preprocessed', 'lap_times_preprocessed', 'results_preprocessed'])\n"
          ]
        }
      ],
      "source": [
        "\n",
        "folder_path = \"/content/drive/MyDrive/preprocessed_dataset/preprocessed_dataset\"  # Update this to your actual folder path\n",
        "csv_files = [f for f in os.listdir(folder_path) if f.endswith('.csv')]\n",
        "\n",
        "\n",
        "dataframes = {}\n",
        "for file in csv_files:\n",
        "    file_path = os.path.join(folder_path, file)\n",
        "    df_name = file.replace(\".csv\", \"\")  \n",
        "    dataframes[df_name] = pd.read_csv(file_path)\n",
        "    print(f\"Loaded: {file}\") \n",
        "\n",
        "print(\"\\nAvailable DataFrames:\")\n",
        "print(dataframes.keys())\n"
      ]
    },
    {
      "cell_type": "code",
      "execution_count": null,
      "metadata": {
        "colab": {
          "base_uri": "https://localhost:8080/"
        },
        "id": "h6vMDPK08idu",
        "outputId": "fd72fdb0-e31e-481f-ce16-1bee6a5f5e78"
      },
      "outputs": [
        {
          "name": "stdout",
          "output_type": "stream",
          "text": [
            "   driverId  AvgFinishingPosition  AvgQualifyingPosition  NormFinishing  \\\n",
            "0         1              5.019663               4.073034       0.081982   \n",
            "1         2             10.722826              11.100000       0.236819   \n",
            "2         3              8.252427               6.834951       0.169749   \n",
            "3         4              8.492574               8.139535       0.176269   \n",
            "4         5             13.285714              13.883929       0.306399   \n",
            "\n",
            "   NormQualifying  DriverConsistency  \n",
            "0        0.120511           0.093541  \n",
            "1        0.396078           0.284597  \n",
            "2        0.228822           0.187471  \n",
            "3        0.279982           0.207383  \n",
            "4        0.505252           0.366055  \n"
          ]
        }
      ],
      "source": [
        "\n",
        "results = dataframes.get('results_preprocessed')\n",
        "qualifying = dataframes.get('qualifying_preprocessed') \n",
        "\n",
        "\n",
        "driver_finishing_pos = results.groupby(\"driverId\")[\"positionOrder\"].mean().reset_index()\n",
        "driver_finishing_pos.columns = [\"driverId\", \"AvgFinishingPosition\"]\n",
        "\n",
        "\n",
        "driver_qualifying_pos = qualifying.groupby(\"driverId\")[\"position\"].mean().reset_index()\n",
        "driver_qualifying_pos.columns = [\"driverId\", \"AvgQualifyingPosition\"]\n",
        "\n",
        "\n",
        "driver_consistency = driver_finishing_pos.merge(driver_qualifying_pos, on=\"driverId\", how=\"left\")\n",
        "\n",
        "driver_consistency[\"NormFinishing\"] = (driver_consistency[\"AvgFinishingPosition\"] - driver_consistency[\"AvgFinishingPosition\"].min()) / (driver_consistency[\"AvgFinishingPosition\"].max() - driver_consistency[\"AvgFinishingPosition\"].min())\n",
        "driver_consistency[\"NormQualifying\"] = (driver_consistency[\"AvgQualifyingPosition\"] - driver_consistency[\"AvgQualifyingPosition\"].min()) / (driver_consistency[\"AvgQualifyingPosition\"].max() - driver_consistency[\"AvgQualifyingPosition\"].min())\n",
        "\n",
        "\n",
        "driver_consistency[\"DriverConsistency\"] = 0.7 * driver_consistency[\"NormFinishing\"] + 0.3 * driver_consistency[\"NormQualifying\"]\n",
        "print(driver_consistency.head())"
      ]
    },
    {
      "cell_type": "code",
      "execution_count": null,
      "metadata": {
        "colab": {
          "base_uri": "https://localhost:8080/"
        },
        "id": "V3qXfNs2-eYv",
        "outputId": "e46c33db-c1b5-4a60-f4a8-d27bd06246fc"
      },
      "outputs": [
        {
          "name": "stdout",
          "output_type": "stream",
          "text": [
            "   constructorId  AvgConstructorPoints  ReliabilityScore  TeamStrength\n",
            "0              1             72.732508          0.931877     58.372382\n",
            "1              2             41.885714          0.971429     33.702857\n",
            "2              3             37.981914          0.943317     30.574194\n",
            "3              4             42.285714          0.928844     34.014340\n",
            "4              5             19.376866          0.955224     15.692537\n"
          ]
        }
      ],
      "source": [
        "constructor_standings = dataframes.get('constructor_standings_preprocessed') \n",
        "status = dataframes.get('status_preprocessed') \n",
        "\n",
        "constructor_avg_points = constructor_standings.groupby(\"constructorId\")[\"points\"].mean().reset_index()\n",
        "constructor_avg_points.columns = [\"constructorId\", \"AvgConstructorPoints\"]\n",
        "\n",
        "results_with_status = results.merge(status, on=\"statusId\", how=\"left\")\n",
        "constructor_failures = results_with_status[results_with_status[\"status\"].str.contains(\"DNF|Crash|Engine|Retired\", na=False)]\n",
        "\n",
        "# Failure rate calculation\n",
        "constructor_reliability = constructor_failures.groupby(\"constructorId\").size().reset_index(name=\"Failures\")\n",
        "total_races = results.groupby(\"constructorId\").size().reset_index(name=\"TotalRaces\")\n",
        "\n",
        "# Merge failures with total races and calculate reliability score\n",
        "team_reliability = total_races.merge(constructor_reliability, on=\"constructorId\", how=\"left\").fillna(0)\n",
        "team_reliability[\"ReliabilityScore\"] = 1 - (team_reliability[\"Failures\"] / team_reliability[\"TotalRaces\"])\n",
        "\n",
        "team_strength = constructor_avg_points.merge(team_reliability[[\"constructorId\", \"ReliabilityScore\"]], on=\"constructorId\", how=\"left\")\n",
        "\n",
        "team_strength[\"TeamStrength\"] = 0.8 * team_strength[\"AvgConstructorPoints\"] + 0.2 * team_strength[\"ReliabilityScore\"]\n",
        "\n",
        "print(team_strength.head())"
      ]
    },
    {
      "cell_type": "code",
      "execution_count": null,
      "metadata": {
        "colab": {
          "base_uri": "https://localhost:8080/"
        },
        "id": "wdJU_twZ_8R4",
        "outputId": "394a5faa-4c70-4e80-e72e-d39485f4c6c0"
      },
      "outputs": [
        {
          "name": "stdout",
          "output_type": "stream",
          "text": [
            "   circuitId  AvgOvertakes  alt  AvgGridPositionChange  NormOvertakes  \\\n",
            "0          1     -0.287695   10              -0.287695       0.967362   \n",
            "1          2     -0.053398   18              -0.053398       0.993942   \n",
            "2          3     -0.025000    7              -0.025000       0.997164   \n",
            "3          4     -0.632411  109              -0.632411       0.928256   \n",
            "4          5     -0.197917  130              -0.197917       0.977547   \n",
            "\n",
            "   NormAltitude  NormGridChange  TrackComplexity  \n",
            "0      0.007610        0.967362         0.679437  \n",
            "1      0.011191        0.993942         0.699117  \n",
            "2      0.006267        0.997164         0.699895  \n",
            "3      0.051925        0.928256         0.665357  \n",
            "4      0.061325        0.977547         0.702681  \n"
          ]
        },
        {
          "name": "stderr",
          "output_type": "stream",
          "text": [
            "<ipython-input-5-2ac45393a0fb>:25: DeprecationWarning: DataFrameGroupBy.apply operated on the grouping columns. This behavior is deprecated, and in a future version of pandas the grouping columns will be excluded from the operation. Either pass `include_groups=False` to exclude the groupings or explicitly select the grouping columns after groupby to silence this warning.\n",
            "  grid_position_changes = results.groupby(\"circuitId\").apply(lambda x: (x[\"grid\"] - x[\"positionOrder\"]).mean()).reset_index(name=\"AvgGridPositionChange\")\n"
          ]
        }
      ],
      "source": [
        "\n",
        "results = dataframes.get('results_preprocessed') \n",
        "qualifying = dataframes.get('qualifying_preprocessed')\n",
        "circuits = dataframes.get('circuits_preprocessed') \n",
        "\n",
        "if 'circuitId' not in results.columns:\n",
        "   \n",
        "    races = dataframes.get('races_preprocessed')\n",
        "    if races is not None and 'circuitId' in races.columns:\n",
        "        results = pd.merge(results, races[['raceId', 'circuitId']], on='raceId', how='left')\n",
        "    else:\n",
        "        raise KeyError(\"Unable to automatically add 'circuitId' column. 'races_preprocessed' dataframe or 'circuitId' column within it is missing.\")\n",
        "\n",
        "# Compute Average Overtakes per Circuit\n",
        "results[\"Overtakes\"] = results[\"grid\"] - results[\"positionOrder\"]\n",
        "overtakes_per_circuit = results.groupby(\"circuitId\")[\"Overtakes\"].mean().reset_index()\n",
        "overtakes_per_circuit.columns = [\"circuitId\", \"AvgOvertakes\"]\n",
        "\n",
        "altitude_factor = circuits[[\"circuitId\", \"alt\"]].fillna(0)  \n",
        "grid_position_changes = results.groupby(\"circuitId\").apply(lambda x: (x[\"grid\"] - x[\"positionOrder\"]).mean()).reset_index(name=\"AvgGridPositionChange\")\n",
        "track_complexity = overtakes_per_circuit.merge(altitude_factor, on=\"circuitId\", how=\"left\").merge(grid_position_changes, on=\"circuitId\", how=\"left\")\n",
        "\n",
        "# Normalize values\n",
        "track_complexity[\"NormOvertakes\"] = (track_complexity[\"AvgOvertakes\"] - track_complexity[\"AvgOvertakes\"].min()) / (track_complexity[\"AvgOvertakes\"].max() - track_complexity[\"AvgOvertakes\"].min())\n",
        "track_complexity[\"NormAltitude\"] = (track_complexity[\"alt\"] - track_complexity[\"alt\"].min()) / (track_complexity[\"alt\"].max() - track_complexity[\"alt\"].min())\n",
        "track_complexity[\"NormGridChange\"] = (track_complexity[\"AvgGridPositionChange\"] - track_complexity[\"AvgGridPositionChange\"].min()) / (track_complexity[\"AvgGridPositionChange\"].max() - track_complexity[\"AvgGridPositionChange\"].min())\n",
        "\n",
        "# Compute final Track Complexity Score\n",
        "track_complexity[\"TrackComplexity\"] = 0.6 * track_complexity[\"NormOvertakes\"] + 0.3 * track_complexity[\"NormAltitude\"] + 0.1 * track_complexity[\"NormGridChange\"]\n",
        "print(track_complexity.head())"
      ]
    },
    {
      "cell_type": "code",
      "execution_count": null,
      "metadata": {
        "colab": {
          "base_uri": "https://localhost:8080/"
        },
        "id": "HxI4BefrBQSi",
        "outputId": "63c50b1f-b021-4b8e-cb48-2c17c24ce2ef"
      },
      "outputs": [
        {
          "name": "stdout",
          "output_type": "stream",
          "text": [
            "Driver Consistency Columns: Index(['driverId', 'AvgFinishingPosition', 'AvgQualifyingPosition',\n",
            "       'NormFinishing', 'NormQualifying', 'DriverConsistency',\n",
            "       'constructorId'],\n",
            "      dtype='object')\n",
            "Team Strength Columns: Index(['constructorId', 'AvgConstructorPoints', 'ReliabilityScore',\n",
            "       'TeamStrength'],\n",
            "      dtype='object')\n",
            "Track Complexity Columns: Index(['circuitId', 'AvgOvertakes', 'alt', 'AvgGridPositionChange',\n",
            "       'NormOvertakes', 'NormAltitude', 'NormGridChange', 'TrackComplexity'],\n",
            "      dtype='object')\n",
            "'circuitId' is missing in driver_consistency. Fixing it...\n",
            "Feature engineering completed. Data saved to 'engineered_features.csv'.\n"
          ]
        }
      ],
      "source": [
        "\n",
        "if 'circuitId' not in driver_consistency.columns:\n",
        "    driver_consistency = driver_consistency.merge(results[['driverId', 'raceId']], on='driverId', how='left')\n",
        "    driver_consistency = driver_consistency.merge(races[['raceId', 'circuitId']], on='raceId', how='left')\n",
        "\n",
        "final_features = (\n",
        "    driver_consistency[[\"driverId\", \"DriverConsistency\", \"constructorId\", \"circuitId\"]]\n",
        "    .merge(team_strength[[\"constructorId\", \"TeamStrength\"]], on=\"constructorId\", how=\"left\")\n",
        "    .merge(track_complexity[[\"circuitId\", \"TrackComplexity\"]], on=\"circuitId\", how=\"left\")\n",
        ")\n",
        "\n",
        "final_features.to_csv(\"engineered_features.csv\", index=False)"
      ]
    },
    {
      "cell_type": "code",
      "execution_count": null,
      "metadata": {
        "colab": {
          "base_uri": "https://localhost:8080/"
        },
        "id": "yMKesJhDFdPj",
        "outputId": "10224f62-bdc2-465d-ac55-24c3efb5a50c"
      },
      "outputs": [
        {
          "name": "stdout",
          "output_type": "stream",
          "text": [
            "Normalization completed. Data saved to 'Normalized_engineered_features.csv'.\n"
          ]
        }
      ],
      "source": [
        "\n",
        "engineered_features = pd.read_csv(\"engineered_features.csv\")\n",
        "engineered_features[\"TeamStrength\"] = engineered_features[\"TeamStrength\"].fillna(0)\n",
        "\n",
        "min_val = engineered_features[\"TeamStrength\"].min()\n",
        "max_val = engineered_features[\"TeamStrength\"].max()\n",
        "epsilon = 1e-6\n",
        "\n",
        "engineered_features[\"TeamStrength\"] = (engineered_features[\"TeamStrength\"] - min_val) / (max_val - min_val + epsilon)\n",
        "engineered_features[\"TeamStrength\"] = engineered_features[\"TeamStrength\"].apply(lambda x: min(round(x, 2), 0.99))\n",
        "engineered_features[\"DriverConsistency\"] = engineered_features[\"DriverConsistency\"].apply(lambda x: min(round(x, 2), 0.99))\n",
        "engineered_features[\"TrackComplexity\"] = engineered_features[\"TrackComplexity\"].apply(lambda x: min(round(x, 2), 0.99))\n",
        "engineered_features.to_csv(\"Normalized_engineered_features.csv\", index=False)"
      ]
    }
  ],
  "metadata": {
    "colab": {
      "provenance": []
    },
    "kernelspec": {
      "display_name": "Python 3",
      "name": "python3"
    },
    "language_info": {
      "name": "python"
    }
  },
  "nbformat": 4,
  "nbformat_minor": 0
}
